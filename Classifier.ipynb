{
 "cells": [
  {
   "cell_type": "markdown",
   "metadata": {},
   "source": [
    "# News Classification Notebook\n",
    "\n",
    "### Built with: Python, Numpy, Pandas and Tensorflow\n",
    "\n",
    "[Fake vs Real News Dataset](https://www.kaggle.com/datasets/clmentbisaillon/fake-and-real-news-dataset/data)"
   ]
  },
  {
   "cell_type": "code",
   "execution_count": 1,
   "metadata": {},
   "outputs": [],
   "source": [
    "import numpy as np\n",
    "import pandas as pd\n",
    "from tensorflow.keras import layers, models, optimizers, losses\n",
    "import tensorflow as tf"
   ]
  },
  {
   "cell_type": "markdown",
   "metadata": {},
   "source": [
    "Set Random Seed so we can replicate the results."
   ]
  },
  {
   "cell_type": "code",
   "execution_count": 2,
   "metadata": {},
   "outputs": [],
   "source": [
    "np.random.seed(2)\n",
    "tf.random.set_seed(2)"
   ]
  },
  {
   "cell_type": "markdown",
   "metadata": {},
   "source": [
    "Read data from CSV files"
   ]
  },
  {
   "cell_type": "code",
   "execution_count": 4,
   "metadata": {},
   "outputs": [],
   "source": [
    "fake = pd.read_csv('Fake.csv')\n",
    "real = pd.read_csv('True.csv')"
   ]
  },
  {
   "cell_type": "markdown",
   "metadata": {},
   "source": [
    "Next, we extract the top 10000 rows to optimize space."
   ]
  },
  {
   "cell_type": "code",
   "execution_count": 5,
   "metadata": {},
   "outputs": [],
   "source": [
    "fake = fake.iloc[:10000]\n",
    "real = real.iloc[:10000]"
   ]
  },
  {
   "cell_type": "code",
   "execution_count": 6,
   "metadata": {},
   "outputs": [
    {
     "data": {
      "text/plain": [
       "((10000, 4), (10000, 4))"
      ]
     },
     "execution_count": 6,
     "metadata": {},
     "output_type": "execute_result"
    }
   ],
   "source": [
    "fake.shape, real.shape"
   ]
  },
  {
   "cell_type": "code",
   "execution_count": 7,
   "metadata": {},
   "outputs": [
    {
     "data": {
      "text/html": [
       "<div>\n",
       "<style scoped>\n",
       "    .dataframe tbody tr th:only-of-type {\n",
       "        vertical-align: middle;\n",
       "    }\n",
       "\n",
       "    .dataframe tbody tr th {\n",
       "        vertical-align: top;\n",
       "    }\n",
       "\n",
       "    .dataframe thead th {\n",
       "        text-align: right;\n",
       "    }\n",
       "</style>\n",
       "<table border=\"1\" class=\"dataframe\">\n",
       "  <thead>\n",
       "    <tr style=\"text-align: right;\">\n",
       "      <th></th>\n",
       "      <th>title</th>\n",
       "      <th>text</th>\n",
       "      <th>subject</th>\n",
       "      <th>date</th>\n",
       "    </tr>\n",
       "  </thead>\n",
       "  <tbody>\n",
       "    <tr>\n",
       "      <th>0</th>\n",
       "      <td>Donald Trump Sends Out Embarrassing New Year’...</td>\n",
       "      <td>Donald Trump just couldn t wish all Americans ...</td>\n",
       "      <td>News</td>\n",
       "      <td>December 31, 2017</td>\n",
       "    </tr>\n",
       "    <tr>\n",
       "      <th>1</th>\n",
       "      <td>Drunk Bragging Trump Staffer Started Russian ...</td>\n",
       "      <td>House Intelligence Committee Chairman Devin Nu...</td>\n",
       "      <td>News</td>\n",
       "      <td>December 31, 2017</td>\n",
       "    </tr>\n",
       "    <tr>\n",
       "      <th>2</th>\n",
       "      <td>Sheriff David Clarke Becomes An Internet Joke...</td>\n",
       "      <td>On Friday, it was revealed that former Milwauk...</td>\n",
       "      <td>News</td>\n",
       "      <td>December 30, 2017</td>\n",
       "    </tr>\n",
       "    <tr>\n",
       "      <th>3</th>\n",
       "      <td>Trump Is So Obsessed He Even Has Obama’s Name...</td>\n",
       "      <td>On Christmas day, Donald Trump announced that ...</td>\n",
       "      <td>News</td>\n",
       "      <td>December 29, 2017</td>\n",
       "    </tr>\n",
       "    <tr>\n",
       "      <th>4</th>\n",
       "      <td>Pope Francis Just Called Out Donald Trump Dur...</td>\n",
       "      <td>Pope Francis used his annual Christmas Day mes...</td>\n",
       "      <td>News</td>\n",
       "      <td>December 25, 2017</td>\n",
       "    </tr>\n",
       "  </tbody>\n",
       "</table>\n",
       "</div>"
      ],
      "text/plain": [
       "                                               title  \\\n",
       "0   Donald Trump Sends Out Embarrassing New Year’...   \n",
       "1   Drunk Bragging Trump Staffer Started Russian ...   \n",
       "2   Sheriff David Clarke Becomes An Internet Joke...   \n",
       "3   Trump Is So Obsessed He Even Has Obama’s Name...   \n",
       "4   Pope Francis Just Called Out Donald Trump Dur...   \n",
       "\n",
       "                                                text subject  \\\n",
       "0  Donald Trump just couldn t wish all Americans ...    News   \n",
       "1  House Intelligence Committee Chairman Devin Nu...    News   \n",
       "2  On Friday, it was revealed that former Milwauk...    News   \n",
       "3  On Christmas day, Donald Trump announced that ...    News   \n",
       "4  Pope Francis used his annual Christmas Day mes...    News   \n",
       "\n",
       "                date  \n",
       "0  December 31, 2017  \n",
       "1  December 31, 2017  \n",
       "2  December 30, 2017  \n",
       "3  December 29, 2017  \n",
       "4  December 25, 2017  "
      ]
     },
     "execution_count": 7,
     "metadata": {},
     "output_type": "execute_result"
    }
   ],
   "source": [
    "fake.head()"
   ]
  },
  {
   "cell_type": "markdown",
   "metadata": {},
   "source": [
    "Next, we drop the title, subject and date fields."
   ]
  },
  {
   "cell_type": "code",
   "execution_count": 8,
   "metadata": {},
   "outputs": [],
   "source": [
    "fake.drop(['title', 'subject', 'date'], axis=1, inplace=True)\n",
    "real.drop(['title', 'subject', 'date'], axis=1, inplace=True)"
   ]
  },
  {
   "cell_type": "markdown",
   "metadata": {},
   "source": [
    "Next, we add the appropriate labels. 0 for Fake news and 1 for Real news."
   ]
  },
  {
   "cell_type": "code",
   "execution_count": 9,
   "metadata": {},
   "outputs": [],
   "source": [
    "fake['label'] = 0\n",
    "real['label'] = 1"
   ]
  },
  {
   "cell_type": "code",
   "execution_count": 10,
   "metadata": {},
   "outputs": [
    {
     "data": {
      "text/html": [
       "<div>\n",
       "<style scoped>\n",
       "    .dataframe tbody tr th:only-of-type {\n",
       "        vertical-align: middle;\n",
       "    }\n",
       "\n",
       "    .dataframe tbody tr th {\n",
       "        vertical-align: top;\n",
       "    }\n",
       "\n",
       "    .dataframe thead th {\n",
       "        text-align: right;\n",
       "    }\n",
       "</style>\n",
       "<table border=\"1\" class=\"dataframe\">\n",
       "  <thead>\n",
       "    <tr style=\"text-align: right;\">\n",
       "      <th></th>\n",
       "      <th>text</th>\n",
       "      <th>label</th>\n",
       "    </tr>\n",
       "  </thead>\n",
       "  <tbody>\n",
       "    <tr>\n",
       "      <th>0</th>\n",
       "      <td>WASHINGTON (Reuters) - The head of a conservat...</td>\n",
       "      <td>1</td>\n",
       "    </tr>\n",
       "    <tr>\n",
       "      <th>1</th>\n",
       "      <td>WASHINGTON (Reuters) - Transgender people will...</td>\n",
       "      <td>1</td>\n",
       "    </tr>\n",
       "    <tr>\n",
       "      <th>2</th>\n",
       "      <td>WASHINGTON (Reuters) - The special counsel inv...</td>\n",
       "      <td>1</td>\n",
       "    </tr>\n",
       "    <tr>\n",
       "      <th>3</th>\n",
       "      <td>WASHINGTON (Reuters) - Trump campaign adviser ...</td>\n",
       "      <td>1</td>\n",
       "    </tr>\n",
       "    <tr>\n",
       "      <th>4</th>\n",
       "      <td>SEATTLE/WASHINGTON (Reuters) - President Donal...</td>\n",
       "      <td>1</td>\n",
       "    </tr>\n",
       "  </tbody>\n",
       "</table>\n",
       "</div>"
      ],
      "text/plain": [
       "                                                text  label\n",
       "0  WASHINGTON (Reuters) - The head of a conservat...      1\n",
       "1  WASHINGTON (Reuters) - Transgender people will...      1\n",
       "2  WASHINGTON (Reuters) - The special counsel inv...      1\n",
       "3  WASHINGTON (Reuters) - Trump campaign adviser ...      1\n",
       "4  SEATTLE/WASHINGTON (Reuters) - President Donal...      1"
      ]
     },
     "execution_count": 10,
     "metadata": {},
     "output_type": "execute_result"
    }
   ],
   "source": [
    "real.head()"
   ]
  },
  {
   "cell_type": "markdown",
   "metadata": {},
   "source": [
    "Next, we concatenate both real and fake news into one."
   ]
  },
  {
   "cell_type": "code",
   "execution_count": 11,
   "metadata": {},
   "outputs": [],
   "source": [
    "ds = pd.concat([real, fake])"
   ]
  },
  {
   "cell_type": "code",
   "execution_count": 12,
   "metadata": {},
   "outputs": [],
   "source": [
    "fake = np.nan\n",
    "real = np.nan"
   ]
  },
  {
   "cell_type": "code",
   "execution_count": 13,
   "metadata": {},
   "outputs": [],
   "source": [
    "ds.reset_index(drop=True, inplace=True)"
   ]
  },
  {
   "cell_type": "code",
   "execution_count": 14,
   "metadata": {},
   "outputs": [
    {
     "data": {
      "text/html": [
       "<div>\n",
       "<style scoped>\n",
       "    .dataframe tbody tr th:only-of-type {\n",
       "        vertical-align: middle;\n",
       "    }\n",
       "\n",
       "    .dataframe tbody tr th {\n",
       "        vertical-align: top;\n",
       "    }\n",
       "\n",
       "    .dataframe thead th {\n",
       "        text-align: right;\n",
       "    }\n",
       "</style>\n",
       "<table border=\"1\" class=\"dataframe\">\n",
       "  <thead>\n",
       "    <tr style=\"text-align: right;\">\n",
       "      <th></th>\n",
       "      <th>text</th>\n",
       "      <th>label</th>\n",
       "    </tr>\n",
       "  </thead>\n",
       "  <tbody>\n",
       "    <tr>\n",
       "      <th>0</th>\n",
       "      <td>WASHINGTON (Reuters) - The head of a conservat...</td>\n",
       "      <td>1</td>\n",
       "    </tr>\n",
       "    <tr>\n",
       "      <th>1</th>\n",
       "      <td>WASHINGTON (Reuters) - Transgender people will...</td>\n",
       "      <td>1</td>\n",
       "    </tr>\n",
       "    <tr>\n",
       "      <th>2</th>\n",
       "      <td>WASHINGTON (Reuters) - The special counsel inv...</td>\n",
       "      <td>1</td>\n",
       "    </tr>\n",
       "    <tr>\n",
       "      <th>3</th>\n",
       "      <td>WASHINGTON (Reuters) - Trump campaign adviser ...</td>\n",
       "      <td>1</td>\n",
       "    </tr>\n",
       "    <tr>\n",
       "      <th>4</th>\n",
       "      <td>SEATTLE/WASHINGTON (Reuters) - President Donal...</td>\n",
       "      <td>1</td>\n",
       "    </tr>\n",
       "    <tr>\n",
       "      <th>...</th>\n",
       "      <td>...</td>\n",
       "      <td>...</td>\n",
       "    </tr>\n",
       "    <tr>\n",
       "      <th>19995</th>\n",
       "      <td>Here s a 1999 video of Jesse Jackson praising ...</td>\n",
       "      <td>0</td>\n",
       "    </tr>\n",
       "    <tr>\n",
       "      <th>19996</th>\n",
       "      <td>Check out what s happening in Texas! President...</td>\n",
       "      <td>0</td>\n",
       "    </tr>\n",
       "    <tr>\n",
       "      <th>19997</th>\n",
       "      <td>Jesse Jackson thinks he s Heaven s gatekeeper ...</td>\n",
       "      <td>0</td>\n",
       "    </tr>\n",
       "    <tr>\n",
       "      <th>19998</th>\n",
       "      <td>The media will lose it again because Melania T...</td>\n",
       "      <td>0</td>\n",
       "    </tr>\n",
       "    <tr>\n",
       "      <th>19999</th>\n",
       "      <td>Unbelievable! Women s March Activist went off ...</td>\n",
       "      <td>0</td>\n",
       "    </tr>\n",
       "  </tbody>\n",
       "</table>\n",
       "<p>20000 rows × 2 columns</p>\n",
       "</div>"
      ],
      "text/plain": [
       "                                                    text  label\n",
       "0      WASHINGTON (Reuters) - The head of a conservat...      1\n",
       "1      WASHINGTON (Reuters) - Transgender people will...      1\n",
       "2      WASHINGTON (Reuters) - The special counsel inv...      1\n",
       "3      WASHINGTON (Reuters) - Trump campaign adviser ...      1\n",
       "4      SEATTLE/WASHINGTON (Reuters) - President Donal...      1\n",
       "...                                                  ...    ...\n",
       "19995  Here s a 1999 video of Jesse Jackson praising ...      0\n",
       "19996  Check out what s happening in Texas! President...      0\n",
       "19997  Jesse Jackson thinks he s Heaven s gatekeeper ...      0\n",
       "19998  The media will lose it again because Melania T...      0\n",
       "19999  Unbelievable! Women s March Activist went off ...      0\n",
       "\n",
       "[20000 rows x 2 columns]"
      ]
     },
     "execution_count": 14,
     "metadata": {},
     "output_type": "execute_result"
    }
   ],
   "source": [
    "ds"
   ]
  },
  {
   "cell_type": "code",
   "execution_count": 15,
   "metadata": {},
   "outputs": [],
   "source": [
    "ds = np.array(ds)"
   ]
  },
  {
   "cell_type": "markdown",
   "metadata": {},
   "source": [
    "Next, we shuffle the data"
   ]
  },
  {
   "cell_type": "code",
   "execution_count": 16,
   "metadata": {},
   "outputs": [],
   "source": [
    "np.random.shuffle(ds)"
   ]
  },
  {
   "cell_type": "code",
   "execution_count": 17,
   "metadata": {},
   "outputs": [
    {
     "data": {
      "text/plain": [
       "array([['WASHINGTON (Reuters) - Two senior U.S. House of Representatives Republicans said on Friday they have agreed on terms for the reauthorization of the deeply indebted National Flood Insurance Program. House Majority Whip Steve Scalise of Louisiana and House Financial Services Committee Chairman Jeb Hensarling of Texas said in a statement: “The bill we support will begin to make the flood insurance program more stable and sustainable for the people who count on it. We look forward to bringing this legislation to the House soon and urge our colleagues to support it.” They did not provide any details of the agreement. Lawmakers are wrestling with how to handle the flood insurance program’s expiration on Dec. 8. It is at least $24.6 billion in debt to the U.S. Treasury and likely to face billions of dollars in additional costs due to Hurricanes Harvey and Irma, which struck Texas and Florida in recent weeks. The program was extended 17 times between 2008 and 2012 and lapsed four times in that period. A 2012 law extended the program to September. In October the House and Senate approved $16 billion of funding to help the program cover claims from recent natural disasters after reaching its borrowing limit.  ',\n",
       "        1],\n",
       "       ['WASHINGTON (Reuters) - A U.S. Senate committee on Thursday voted to advance the White House’s nomination of Randal Quarles to the Federal Reserve’s board of governors, a further boost for President Donald Trump’s plan to loosen Wall Street regulations. Quarles, a prominent investor and former Treasury official, was confirmed by the Senate Banking Committee as vice chairman for supervision at the Fed, a post that will be in the spotlight as the Trump administration looks to unpick the regulations brought in to rein in banks after the 2008 financial crisis.   The committee also voted to advance the nomination of Joseph Otting as comptroller of the currency, a position which regulates national banks. Both nominations now head to the full Senate, where they are expected to ultimately be confirmed. Republicans on the panel unanimously backed the picks, and Quarles received support from five of the 11 Democrats. Otting received support from all the Republicans and just one Democrat, Senator Heidi Heitkamp of North Dakota. During a hearing before the committee in July, Quarles said he would ensure more transparency around the Fed’s so-called stress tests for big banks and would work to simplify the Volcker rule, which bans banks from making speculative bets with their own money. Wall Street critics say that rule is vague and unworkable. The Senate panel votes came a day after Federal Reserve Vice Chair Stanley Fischer, a veteran central banker who had spoken out against weakening Wall Street regulations, announced he would step down in October due to personal reasons. Analysts said the appointment of Quarles and the departure of Fischer could accelerate Trump’s deregulation agenda, potentially saving banks such as Goldman Sachs(GS.N), JPMorgan (JPM.N) and Morgan Stanley (MS.N) billions in future revenue. Quarles will also vote on monetary policy as a member of the Fed’s board of governors. “President Trump has the opportunity to radically remake the Federal Reserve Board in the coming months,” said analysts at Compass Point Research & Trading.   “Our view remains that the prudential bank regulators will orchestrate a broad deregulatory agenda for the nation’s banks, with a particular focus on streamlining the stress testing process, softening the capital and liquidity framework, and securing regulatory relief for the nation’s regional/community banks.” Otting is seen as a more controversial pick than Quarles due to his role as former chief executive of OneWest Bank, which foreclosed on 36,000 homes after striking a lucrative deal with the Federal Deposit Insurance Corp. Treasury Secretary Steven Mnuchin also was a top executive at OneWest. ',\n",
       "        1],\n",
       "       ['Up until recently, we ve all been witnessing Donald Trump speak freely with nothing really prepared except for the usual crumpled sheet of paper he d pull out of his coat pocket to read the latest poll numbers to tell us how wonderful he is. However, with clinching the Republican nomination getting closer and closer, he s trying (and failing) to be more refined. Which includes using a teleprompter to read speeches that are prepared for him.During his foreign policy speech on Wednesday, it was painfully awkward to watch. You could hear him reading the speech, which did not come across naturally whatsoever. Watching his head swiftly move from side to side to give the illusion that he was speaking freely was more clumsy than a first date in the dark.Then came the moment when he was trying to be serious and speak about some foreign policy blunders, and he spoke about when some of our embassies overseas were compromised. However, his reading off the teleprompter proved this is probably the first time he has ever heard of the places of which he was speaking.For example, he read: Our embassies in Kenya and Tanzania. But SAID: Our embassies in Kenya and Tan-ZANE-ia. Small blunder? Sure, but one that was surely noticed by all and just another example of Trump s clear ineptitude.Donald Trump has a pretty interesting way of pronouncing Tanzania. #tanzaynia https://t.co/2ygcnhCVKF  DOPEITSTOM (@DOPEITSTOM) April 27, 2016Taking notice of this blunder was none other than, well, pretty much everyone- but also White House Press Secretary Josh Earnest. When questioned about the moment, Earnest quipped: Apparently phonetics are not included on the teleprompter. Watch here:\"Apparently, the phonetics are not included on the teleprompter.\" @PressSec on Donald Trump foreign policy address.https://t.co/ORuNELmrne  CSPAN (@cspan) April 27, 2016All in all, it shows how ill-prepared Trump is at not only addressing the nation, but also reading. Add this to the list of reasons not to vote for him, which is a very, very long list.If you want to torture yourself, you can watch the speech in full HERE.Featured Photo by Chip Somodevilla/Getty Images',\n",
       "        0],\n",
       "       ...,\n",
       "       ['At this point in Donald Trump s pathetic, failing presidency, it is no surprise that officials from other countries want nothing to do with him or America. The country has been humiliated beyond belief as the orange child in the White House unleashes his reckless behavior on the world, and top officials are doing their best to do damage control.This week, Gareth Evans, the former Foreign Minister of Australia, sent out a major warning about Trump and urged Australia to gain more independence away from the United States thanks to Trump s trigger-happy behavior and recent attack on Syria. Evans railed against Trump in his speech to Australia s National Press Club, calling Trump manifestly the most ill-informed, under-prepared, ethically challenged and psychologically ill-equipped president in US history. Evans correctly observed that Trump should not be trusted to deliver consistent, coherent, constructive and cohesive outcomes over the next four years.  The former Australia Foreign Minster added: Personally driven by instinct and impulse, unhampered by knowledge or judgement, he has led an administration acting so far manifestly on the basis of postures, not of policies. Evans urged Australia to depend more on itself and partners in Asia than on the United States, as Trump has made a partnership with America far too risky. Evans said: We should have learned that lesson after Iraq in 2003. You can watch Evans blast Trump s dangerous behavior below:Americans should be seriously considering what other world leaders and important officials are saying about Trump. The fact that the rest of the world is horrified by what they see should be setting off red flags even among Trump s own supporters. Never before have we seen such a response from the world, as Trump threatens to ruin everything he can get his tiny hands on. Evans  words are brutal, but deep down we know they re all true.Featured image via Alex Wong / Getty Images',\n",
       "        0],\n",
       "       ['(Reuters) - President-elect Donald Trump will nominate high-frequency trading expert Vincent Viola to be secretary of the Army, a senior transition official said on Monday. Below is a list of Republican Trump’s selections for top jobs in his administration. Senate confirmation is required for all the posts except national security adviser, White House chief of staff, White House director of the National Economic Council and White House strategist. Tillerson, 64, has spent his entire career at Exxon Mobil Corp, where he rose to serve as its chairman and CEO in 2006. A civil engineer by training, the Texan joined the world’s largest energy company in 1975 and led several of its operations in the United States as well as in Yemen, Thailand and Russia. As Exxon’s chief executive, he maintained close ties with Moscow and opposed U.S. sanctions against Russia for its incursion into Crimea. Mnuchin, 53, is a successful private equity investor, hedge fund manager and Hollywood financier who spent 17 years at Goldman Sachs before leaving in 2002. He assembled an investor group to buy a failed California mortgage lender in 2009, rebranded it as OneWest Bank and built it into Southern California’s largest bank. Housing advocacy groups criticized the bank for its foreclosure practices, accusing it of being too quick to foreclose on struggling homeowners. Mattis is a retired Marine general known for his tough talk, distrust of Iran and battlefield experience in Iraq and Afghanistan. A former leader of Central Command, which oversees U.S. military operations in the Middle East and South Asia, Mattis, 66, is known by many U.S. forces by his nickname “Mad Dog.” He was in 2005 rebuked for saying: “It’s fun to shoot some people.” Sessions, 69, was the first U.S. senator to endorse Trump’s presidential bid and has been a close ally since. Son of a country store owner, the Alabama senator and former federal prosecutor has long taken a tough stance on illegal immigration, opposing any path to citizenship for undocumented immigrants.  Zinke, 55, a first-term Republican representative and a member of the House subcommittee on natural resources, has voted for legislation that would weaken environmental safeguards on public lands. He has taken stances favoring coal, which suffered during the Obama administration. The League of Conservation Voters, which ranks lawmakers on their environmental record, gave Zinke an extremely low lifetime score of 3 percent. Ross, 79, heads the private equity firm W.L. Ross & Co and Forbes has pegged his net worth at about $2.9 billion. A staunch supporter of Trump, Ross helped shape the Trump campaign’s views on trade policy. He blames the North American Free Trade Agreement with Canada and Mexico, which went into force in 1994, and the 2001 entry of China into the World Trade Organization, for causing massive U.S. factory job losses.               Puzder, chief executive officer of CKE Restaurants Inc [APOLOT.UL], which runs the Carl’s Jr. and Hardee’s fast-food chains, has been a vociferous critic of government regulation of the workplace and the National Labor Relations Board. Puzder, 66, has argued that higher minimum wages would hurt workers by forcing restaurants to close and praises the benefits of automation, so his appointment is likely to antagonize organized labor.  U.S. Representative Price, 62, is an orthopedic surgeon who heads the House Budget Committee. A representative from Georgia since 2005, Price has criticized Obamacare and has championed a plan of tax credits, expanded health savings accounts and lawsuit reforms to replace it. He is opposed to abortion. Carson, 65, is a retired neurosurgeon who dropped out of the Republican presidential nominating race in March and threw his support to Trump. A popular writer and speaker in conservative circles, Carson previously indicated reluctance to take a position in the incoming administration because of his lack of experience in the federal government. Carson is the first African-American picked for a Cabinet spot by Trump. Chao, 63, was labor secretary under President George W. Bush for eight years and the first Asian-American woman to hold a Cabinet position. She is a director at Ingersoll Rand, News Corp and Vulcan Materials Co. She is married to U.S. Senate Majority Leader Mitch McConnell, a Republican from Kentucky. Perry, 66, adds to the list of oil drilling advocates skeptical about climate change who have been picked for senior positions in Trump’s Cabinet. The selections have worried environmentalists but cheered an oil and gas industry eager for expansion. Perry, who also briefly ran in the 2016 presidential race, would be responsible for U.S. energy policy and oversee the nation’s nuclear weapons program.  DeVos, 58, is a billionaire Republican donor, a former chair of the Michigan Republican Party and an advocate for the privatization of education. As chair of the American Federation for Children, she has pushed at the state level for vouchers that families can use to send their children to private schools and for expansion of charter schools. The final leadership role of Kelly’s 45-year military career was head of the U.S. Southern Command, responsible for U.S. military activities and relationships in Latin America and the Caribbean. The 66-year-old retired Marine general differed with Obama on key issues and has warned of vulnerabilities along the United States’ southern border with Mexico. Recently re-elected to serve as Republican National Committee chairman, Priebus will give up his party post to join Trump in the White House, where the low-key Washington operative could help forge ties with Congress to advance Trump’s agenda. Priebus, 44, was a steadfast supporter of Trump during the presidential campaign even as the party fractured amid the choice. ENVIRONMENTAL PROTECTION AGENCY ADMINISTRATOR: SCOTT PRUITT An ardent opponent of President Barack Obama’s measures to stem climate change, Oklahoma Attorney General Pruitt, 48, has enraged environmental activists. But he fits with the president-elect’s promise to cut the agency back and eliminate regulation that he says is stifling oil and gas drilling. Pruitt became the top state prosecutor for Oklahoma, which has extensive oil reserves, in 2011 and has challenged the EPA multiple times since. U.S. Representative Mick Mulvaney, 49, a South Carolina Republican, is a fiscal conservative. He was an outspoken critic of former House of Representatives Speaker John Boehner, who resigned in 2015 amid opposition from fellow Republicans who were members of the House Freedom Caucus. Mulvaney was first elected to Congress in 2010. Haley, 44, has been the Republican governor of South Carolina since 2011 and has little experience in foreign policy or the federal government. The daughter of Indian immigrants, she led a successful push last year to remove the Confederate battle flag from the grounds of the South Carolina state capitol after the killing of nine black churchgoers in Charleston by a white gunman. McMahon, 68, is a co-founder and former chief executive of the professional wrestling franchise WWE, which is based in Stamford, Connecticut. She ran unsuccessfully as a Republican for a U.S. Senate seat in Connecticut in 2010 and 2012 and was an early supporter of Trump’s presidential campaign. U.S. Representative Pompeo, 52, is a third-term congressman from Kansas who serves on the House of Representatives Intelligence Committee, which oversees the CIA, National Security Agency and cyber security. A retired Army officer and Harvard Law School graduate, Pompeo supports the U.S. government’s sweeping collection of Americans’ communications data and wants to scrap the nuclear deal with Iran.     Cohn, 56, president and chief operating officer of investment bank Goldman Sachs, had widely been considered heir apparent to Lloyd Blankfein, CEO of the Wall Street firm. Trump hammered Goldman and Blankfein during the presidential campaign, releasing a television ad that called Blankfein part of a “global power structure” that had robbed America’s working class. Retired Lieutenant General Flynn, 57, was an early Trump supporter and serves as vice chairman on his transition team. He began his Army career in 1981 and was deployed in Afghanistan and Iraq. Flynn became head of the Defense Intelligence Agency in 2012 under President Barack Obama but retired a year earlier than expected, according to media reports, and became a fierce critic of Obama’s foreign policy. Viola, 60, is a West Point graduate and U.S. Army veteran who served in the 101st Airborne Division. He founded high-frequency trading firm Virtu Financial Inc and served as  chairman of the New York Mercantile Exchange, where he began his financial services career. After the Sept. 11, 2001, al Qaeda attacks on New York and Washington, Viola helped found the Combating Terrorism Center at the U.S. Military Academy at West Point. He is an owner of the Florida Panthers ice hockey team. CHIEF WHITE HOUSE STRATEGIST, SENIOR COUNSELOR: STEVE BANNON The former head of the conservative website Breitbart News came aboard as Trump’s campaign chairman in August. A rabble-rousing conservative media figure, he helped shift Breitbart into a forum for the alt-right, a loose confederation of those who reject mainstream politics and includes neo-Nazis, white supremacists and anti-Semites. His hiring signals Trump’s dedication to operating outside the norms of Washington. As White House chief of staff, Bannon, 63, will serve as Trump’s gatekeeper and agenda-setter. ',\n",
       "        1],\n",
       "       ['WASHINGTON (Reuters) - U.S. Democrats unveiled an economic platform on Monday that included plans to address unfair market competition, rising pharmaceuticals costs and stagnant wages. Democrats proposed new standards that companies must meet to complete large mergers and enhanced post-merger reviews, singling out the airline, telecommunications, beer, food and eyeglass industries as areas of concern in the proposal dubbed “A Better Deal” for working Americans.  Last year, Republicans proposed legislative goals with a similar title: “A Better Way.” The Democrats’ platform is a move to regroup ahead of the 2018 midterm congressional elections, after Hillary Clinton’s loss to Republican President Donald Trump in 2016. Republicans control both the House and the Senate. Senator Chuck Schumer, the top Democrat in the U.S. Senate, accused Trump of running a populist election campaign and then abandoning working people for special interests once in the White House. “We can’t delude anyone that this Congress will begin passing our priorities tomorrow but we have to start presenting our vision for the country’s future,” Schumer said at a kickoff event in the town of Berryville, Virginia. Accompanying Schumer was House Minority Leader Nancy Pelosi, Senators Elizabeth Warren, Chris Van Hollen and Amy Klobuchar, and Representatives Hakeem Jeffries and David Cicilline, among others. Democrats want to create an independent government agency that would crack down on drug companies that raise prices excessively. They also want to allow Medicare, the government health insurance program for the elderly, to negotiate prices with manufacturers. Additionally, drug companies would need to justify big price hikes to the government. Policy proposals provided to reporters singled out a few companies by name, including Turing Pharmaceuticals and Valeant Pharmaceuticals International Inc. One document criticized United Continental Holdings Inc for the “brutal assault” of a United passenger who was already seated on an overbooked flight and refused to give up his seat for a crew member.  Separately, if AT&T Inc’s purchase of Time Warner Inc succeeds, it would allow the “resulting behemoths” to “unfairly discriminate” against smaller distributors, one document stated. When Anheuser Busch InBev, the world’s largest beer maker, purchased SABMiller, the second-largest beer company, it put smaller brewers at a disadvantage, the documents said. Mergers between Dow Chemical Co and DuPont, Monsanto Co with Bayer AG and Syngenta AG with ChemChina “threaten the safety of food and agriculture in America,” one document said. Democrats will also propose doubling federal support for apprenticeship programs, a tax credit for employers that hire and train workers that make a liveable wage, and encouraging partnerships between companies and public high schools and community colleges. ',\n",
       "        1]], dtype=object)"
      ]
     },
     "execution_count": 17,
     "metadata": {},
     "output_type": "execute_result"
    }
   ],
   "source": [
    "ds"
   ]
  },
  {
   "cell_type": "markdown",
   "metadata": {},
   "source": [
    "Next, we split the data into train, validation and test sets."
   ]
  },
  {
   "cell_type": "code",
   "execution_count": 18,
   "metadata": {},
   "outputs": [],
   "source": [
    "num_of_samples = len(ds)"
   ]
  },
  {
   "cell_type": "code",
   "execution_count": 19,
   "metadata": {},
   "outputs": [],
   "source": [
    "train_size = int(0.8 * num_of_samples)\n",
    "valid_size = int(0.1 * num_of_samples)\n",
    "test_size = num_of_samples - train_size - valid_size"
   ]
  },
  {
   "cell_type": "code",
   "execution_count": 20,
   "metadata": {},
   "outputs": [
    {
     "name": "stdout",
     "output_type": "stream",
     "text": [
      "16000 2000 2000\n"
     ]
    }
   ],
   "source": [
    "print(train_size, valid_size, test_size)"
   ]
  },
  {
   "cell_type": "code",
   "execution_count": 21,
   "metadata": {},
   "outputs": [],
   "source": [
    "text_ds = np.array([obv[0] for obv in ds])\n",
    "label_ds = np.array([obv[1] for obv in ds])"
   ]
  },
  {
   "cell_type": "code",
   "execution_count": 22,
   "metadata": {},
   "outputs": [],
   "source": [
    "ds = np.nan"
   ]
  },
  {
   "cell_type": "code",
   "execution_count": 23,
   "metadata": {},
   "outputs": [],
   "source": [
    "train_text = text_ds[:train_size]\n",
    "train_label = label_ds[:train_size]\n",
    "\n",
    "valid_text = text_ds[train_size:train_size+valid_size]\n",
    "valid_label = label_ds[train_size:train_size+valid_size]\n",
    "\n",
    "test_text = text_ds[train_size+valid_size:]\n",
    "test_label = label_ds[train_size+valid_size:]"
   ]
  },
  {
   "cell_type": "code",
   "execution_count": 24,
   "metadata": {},
   "outputs": [],
   "source": [
    "text_ds = np.nan\n",
    "label_ds = np.nan"
   ]
  },
  {
   "cell_type": "markdown",
   "metadata": {},
   "source": [
    "Next, we batch the data so the model is fed the data in batches."
   ]
  },
  {
   "cell_type": "code",
   "execution_count": 25,
   "metadata": {},
   "outputs": [],
   "source": [
    "train_ds = tf.data.Dataset.from_tensor_slices((train_text, train_label))\n",
    "valid_ds = tf.data.Dataset.from_tensor_slices((valid_text, valid_label))"
   ]
  },
  {
   "cell_type": "code",
   "execution_count": 26,
   "metadata": {},
   "outputs": [],
   "source": [
    "BATCH_SIZE = 16\n",
    "\n",
    "train_ds = train_ds.cache().batch(batch_size=BATCH_SIZE).prefetch(tf.data.AUTOTUNE)\n",
    "valid_ds = valid_ds.cache().batch(batch_size=BATCH_SIZE).prefetch(tf.data.AUTOTUNE)"
   ]
  },
  {
   "cell_type": "markdown",
   "metadata": {},
   "source": [
    "Next, we vectorize the data. We train the vectorizer on the train and validation texts."
   ]
  },
  {
   "cell_type": "code",
   "execution_count": 27,
   "metadata": {},
   "outputs": [],
   "source": [
    "VOCAB_SIZE = 20000\n",
    "\n",
    "encoder = layers.TextVectorization(max_tokens=VOCAB_SIZE)\n",
    "encoder.adapt(train_ds.map(lambda text, label: text))\n",
    "encoder.adapt(valid_ds.map(lambda text, label: text))"
   ]
  },
  {
   "cell_type": "markdown",
   "metadata": {},
   "source": [
    "Next, we construct the model."
   ]
  },
  {
   "cell_type": "code",
   "execution_count": 38,
   "metadata": {},
   "outputs": [],
   "source": [
    "model = models.Sequential()\n",
    "\n",
    "model.add(encoder)\n",
    "\n",
    "model.add(layers.Embedding(input_dim=VOCAB_SIZE, output_dim=30))\n",
    "\n",
    "model.add(layers.Bidirectional(layers.LSTM(20)))\n",
    "\n",
    "model.add(layers.Dense(20, activation='relu'))\n",
    "\n",
    "model.add(layers.Dense(1))"
   ]
  },
  {
   "cell_type": "code",
   "execution_count": 39,
   "metadata": {},
   "outputs": [],
   "source": [
    "model.compile(\n",
    "    optimizer = optimizers.Adam(),\n",
    "    loss = losses.BinaryCrossentropy(from_logits=True),\n",
    "    metrics = ['accuracy']\n",
    ")"
   ]
  },
  {
   "cell_type": "code",
   "execution_count": 40,
   "metadata": {},
   "outputs": [
    {
     "name": "stdout",
     "output_type": "stream",
     "text": [
      "Epoch 1/5\n"
     ]
    },
    {
     "name": "stdout",
     "output_type": "stream",
     "text": [
      "1000/1000 - 516s - 516ms/step - accuracy: 0.9729 - loss: 0.0462 - val_accuracy: 0.9990 - val_loss: 0.0040\n",
      "Epoch 2/5\n",
      "1000/1000 - 502s - 502ms/step - accuracy: 0.9999 - loss: 0.0013 - val_accuracy: 0.9995 - val_loss: 0.0031\n",
      "Epoch 3/5\n",
      "1000/1000 - 497s - 497ms/step - accuracy: 0.9999 - loss: 6.2773e-04 - val_accuracy: 0.9995 - val_loss: 0.0033\n",
      "Epoch 4/5\n",
      "1000/1000 - 502s - 502ms/step - accuracy: 0.9999 - loss: 2.7534e-04 - val_accuracy: 0.9995 - val_loss: 0.0039\n",
      "Epoch 5/5\n",
      "1000/1000 - 495s - 495ms/step - accuracy: 0.9999 - loss: 3.8688e-04 - val_accuracy: 0.9990 - val_loss: 0.0052\n"
     ]
    },
    {
     "data": {
      "text/plain": [
       "<keras.src.callbacks.history.History at 0x2319944aed0>"
      ]
     },
     "execution_count": 40,
     "metadata": {},
     "output_type": "execute_result"
    }
   ],
   "source": [
    "epochs = 5\n",
    "\n",
    "model.fit(\n",
    "    train_ds,\n",
    "    epochs = epochs,\n",
    "    validation_data = valid_ds,\n",
    "    verbose = 2\n",
    ")"
   ]
  },
  {
   "cell_type": "markdown",
   "metadata": {},
   "source": [
    "After 5 epochs, we have a training accuracy of 99.99% and a validation accuracy of 99.90%. These are extremely good numbers. Training loss is 0.0037 and validation loss is 0.0052."
   ]
  },
  {
   "cell_type": "code",
   "execution_count": 41,
   "metadata": {},
   "outputs": [
    {
     "data": {
      "text/html": [
       "<pre style=\"white-space:pre;overflow-x:auto;line-height:normal;font-family:Menlo,'DejaVu Sans Mono',consolas,'Courier New',monospace\"><span style=\"font-weight: bold\">Model: \"sequential_2\"</span>\n",
       "</pre>\n"
      ],
      "text/plain": [
       "\u001b[1mModel: \"sequential_2\"\u001b[0m\n"
      ]
     },
     "metadata": {},
     "output_type": "display_data"
    },
    {
     "data": {
      "text/html": [
       "<pre style=\"white-space:pre;overflow-x:auto;line-height:normal;font-family:Menlo,'DejaVu Sans Mono',consolas,'Courier New',monospace\">┏━━━━━━━━━━━━━━━━━━━━━━━━━━━━━━━━━┳━━━━━━━━━━━━━━━━━━━━━━━━┳━━━━━━━━━━━━━━━┓\n",
       "┃<span style=\"font-weight: bold\"> Layer (type)                    </span>┃<span style=\"font-weight: bold\"> Output Shape           </span>┃<span style=\"font-weight: bold\">       Param # </span>┃\n",
       "┡━━━━━━━━━━━━━━━━━━━━━━━━━━━━━━━━━╇━━━━━━━━━━━━━━━━━━━━━━━━╇━━━━━━━━━━━━━━━┩\n",
       "│ text_vectorization              │ (<span style=\"color: #00d7ff; text-decoration-color: #00d7ff\">None</span>, <span style=\"color: #00d7ff; text-decoration-color: #00d7ff\">None</span>)           │             <span style=\"color: #00af00; text-decoration-color: #00af00\">0</span> │\n",
       "│ (<span style=\"color: #0087ff; text-decoration-color: #0087ff\">TextVectorization</span>)             │                        │               │\n",
       "├─────────────────────────────────┼────────────────────────┼───────────────┤\n",
       "│ embedding_2 (<span style=\"color: #0087ff; text-decoration-color: #0087ff\">Embedding</span>)         │ (<span style=\"color: #00d7ff; text-decoration-color: #00d7ff\">None</span>, <span style=\"color: #00d7ff; text-decoration-color: #00d7ff\">None</span>, <span style=\"color: #00af00; text-decoration-color: #00af00\">30</span>)       │       <span style=\"color: #00af00; text-decoration-color: #00af00\">600,000</span> │\n",
       "├─────────────────────────────────┼────────────────────────┼───────────────┤\n",
       "│ bidirectional_2 (<span style=\"color: #0087ff; text-decoration-color: #0087ff\">Bidirectional</span>) │ (<span style=\"color: #00d7ff; text-decoration-color: #00d7ff\">None</span>, <span style=\"color: #00af00; text-decoration-color: #00af00\">40</span>)             │         <span style=\"color: #00af00; text-decoration-color: #00af00\">8,160</span> │\n",
       "├─────────────────────────────────┼────────────────────────┼───────────────┤\n",
       "│ dense_4 (<span style=\"color: #0087ff; text-decoration-color: #0087ff\">Dense</span>)                 │ (<span style=\"color: #00d7ff; text-decoration-color: #00d7ff\">None</span>, <span style=\"color: #00af00; text-decoration-color: #00af00\">20</span>)             │           <span style=\"color: #00af00; text-decoration-color: #00af00\">820</span> │\n",
       "├─────────────────────────────────┼────────────────────────┼───────────────┤\n",
       "│ dense_5 (<span style=\"color: #0087ff; text-decoration-color: #0087ff\">Dense</span>)                 │ (<span style=\"color: #00d7ff; text-decoration-color: #00d7ff\">None</span>, <span style=\"color: #00af00; text-decoration-color: #00af00\">1</span>)              │            <span style=\"color: #00af00; text-decoration-color: #00af00\">21</span> │\n",
       "└─────────────────────────────────┴────────────────────────┴───────────────┘\n",
       "</pre>\n"
      ],
      "text/plain": [
       "┏━━━━━━━━━━━━━━━━━━━━━━━━━━━━━━━━━┳━━━━━━━━━━━━━━━━━━━━━━━━┳━━━━━━━━━━━━━━━┓\n",
       "┃\u001b[1m \u001b[0m\u001b[1mLayer (type)                   \u001b[0m\u001b[1m \u001b[0m┃\u001b[1m \u001b[0m\u001b[1mOutput Shape          \u001b[0m\u001b[1m \u001b[0m┃\u001b[1m \u001b[0m\u001b[1m      Param #\u001b[0m\u001b[1m \u001b[0m┃\n",
       "┡━━━━━━━━━━━━━━━━━━━━━━━━━━━━━━━━━╇━━━━━━━━━━━━━━━━━━━━━━━━╇━━━━━━━━━━━━━━━┩\n",
       "│ text_vectorization              │ (\u001b[38;5;45mNone\u001b[0m, \u001b[38;5;45mNone\u001b[0m)           │             \u001b[38;5;34m0\u001b[0m │\n",
       "│ (\u001b[38;5;33mTextVectorization\u001b[0m)             │                        │               │\n",
       "├─────────────────────────────────┼────────────────────────┼───────────────┤\n",
       "│ embedding_2 (\u001b[38;5;33mEmbedding\u001b[0m)         │ (\u001b[38;5;45mNone\u001b[0m, \u001b[38;5;45mNone\u001b[0m, \u001b[38;5;34m30\u001b[0m)       │       \u001b[38;5;34m600,000\u001b[0m │\n",
       "├─────────────────────────────────┼────────────────────────┼───────────────┤\n",
       "│ bidirectional_2 (\u001b[38;5;33mBidirectional\u001b[0m) │ (\u001b[38;5;45mNone\u001b[0m, \u001b[38;5;34m40\u001b[0m)             │         \u001b[38;5;34m8,160\u001b[0m │\n",
       "├─────────────────────────────────┼────────────────────────┼───────────────┤\n",
       "│ dense_4 (\u001b[38;5;33mDense\u001b[0m)                 │ (\u001b[38;5;45mNone\u001b[0m, \u001b[38;5;34m20\u001b[0m)             │           \u001b[38;5;34m820\u001b[0m │\n",
       "├─────────────────────────────────┼────────────────────────┼───────────────┤\n",
       "│ dense_5 (\u001b[38;5;33mDense\u001b[0m)                 │ (\u001b[38;5;45mNone\u001b[0m, \u001b[38;5;34m1\u001b[0m)              │            \u001b[38;5;34m21\u001b[0m │\n",
       "└─────────────────────────────────┴────────────────────────┴───────────────┘\n"
      ]
     },
     "metadata": {},
     "output_type": "display_data"
    },
    {
     "data": {
      "text/html": [
       "<pre style=\"white-space:pre;overflow-x:auto;line-height:normal;font-family:Menlo,'DejaVu Sans Mono',consolas,'Courier New',monospace\"><span style=\"font-weight: bold\"> Total params: </span><span style=\"color: #00af00; text-decoration-color: #00af00\">1,827,005</span> (6.97 MB)\n",
       "</pre>\n"
      ],
      "text/plain": [
       "\u001b[1m Total params: \u001b[0m\u001b[38;5;34m1,827,005\u001b[0m (6.97 MB)\n"
      ]
     },
     "metadata": {},
     "output_type": "display_data"
    },
    {
     "data": {
      "text/html": [
       "<pre style=\"white-space:pre;overflow-x:auto;line-height:normal;font-family:Menlo,'DejaVu Sans Mono',consolas,'Courier New',monospace\"><span style=\"font-weight: bold\"> Trainable params: </span><span style=\"color: #00af00; text-decoration-color: #00af00\">609,001</span> (2.32 MB)\n",
       "</pre>\n"
      ],
      "text/plain": [
       "\u001b[1m Trainable params: \u001b[0m\u001b[38;5;34m609,001\u001b[0m (2.32 MB)\n"
      ]
     },
     "metadata": {},
     "output_type": "display_data"
    },
    {
     "data": {
      "text/html": [
       "<pre style=\"white-space:pre;overflow-x:auto;line-height:normal;font-family:Menlo,'DejaVu Sans Mono',consolas,'Courier New',monospace\"><span style=\"font-weight: bold\"> Non-trainable params: </span><span style=\"color: #00af00; text-decoration-color: #00af00\">0</span> (0.00 B)\n",
       "</pre>\n"
      ],
      "text/plain": [
       "\u001b[1m Non-trainable params: \u001b[0m\u001b[38;5;34m0\u001b[0m (0.00 B)\n"
      ]
     },
     "metadata": {},
     "output_type": "display_data"
    },
    {
     "data": {
      "text/html": [
       "<pre style=\"white-space:pre;overflow-x:auto;line-height:normal;font-family:Menlo,'DejaVu Sans Mono',consolas,'Courier New',monospace\"><span style=\"font-weight: bold\"> Optimizer params: </span><span style=\"color: #00af00; text-decoration-color: #00af00\">1,218,004</span> (4.65 MB)\n",
       "</pre>\n"
      ],
      "text/plain": [
       "\u001b[1m Optimizer params: \u001b[0m\u001b[38;5;34m1,218,004\u001b[0m (4.65 MB)\n"
      ]
     },
     "metadata": {},
     "output_type": "display_data"
    }
   ],
   "source": [
    "model.summary()"
   ]
  },
  {
   "cell_type": "code",
   "execution_count": 42,
   "metadata": {},
   "outputs": [],
   "source": [
    "model.save('model.keras')"
   ]
  },
  {
   "cell_type": "code",
   "execution_count": 43,
   "metadata": {},
   "outputs": [],
   "source": [
    "test_ds = tf.data.Dataset.from_tensor_slices((test_text, test_label))\n",
    "test_ds = test_ds.cache().batch(batch_size=BATCH_SIZE).prefetch(tf.data.AUTOTUNE)"
   ]
  },
  {
   "cell_type": "code",
   "execution_count": 44,
   "metadata": {},
   "outputs": [
    {
     "name": "stdout",
     "output_type": "stream",
     "text": [
      "\u001b[1m125/125\u001b[0m \u001b[32m━━━━━━━━━━━━━━━━━━━━\u001b[0m\u001b[37m\u001b[0m \u001b[1m13s\u001b[0m 102ms/step - accuracy: 0.9992 - loss: 0.0045\n"
     ]
    }
   ],
   "source": [
    "accuracy, accuracy = model.evaluate(test_ds)"
   ]
  },
  {
   "cell_type": "markdown",
   "metadata": {},
   "source": [
    "After testing the data on the test set, we have an accuracy of 99.92% and a loss of 0.0045."
   ]
  },
  {
   "cell_type": "code",
   "execution_count": null,
   "metadata": {},
   "outputs": [],
   "source": []
  }
 ],
 "metadata": {
  "kernelspec": {
   "display_name": "base",
   "language": "python",
   "name": "python3"
  },
  "language_info": {
   "codemirror_mode": {
    "name": "ipython",
    "version": 3
   },
   "file_extension": ".py",
   "mimetype": "text/x-python",
   "name": "python",
   "nbconvert_exporter": "python",
   "pygments_lexer": "ipython3",
   "version": "3.11.7"
  }
 },
 "nbformat": 4,
 "nbformat_minor": 2
}
